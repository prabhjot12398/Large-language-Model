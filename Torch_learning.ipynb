{
 "cells": [
  {
   "cell_type": "code",
   "execution_count": 1,
   "id": "68b086d1-0b1d-44cd-b8c1-b885c58e7f0a",
   "metadata": {},
   "outputs": [
    {
     "name": "stdout",
     "output_type": "stream",
     "text": [
      "cuda\n"
     ]
    }
   ],
   "source": [
    "import torch\n",
    "import numpy as np\n",
    "import time\n",
    "device = \"cuda\" if torch.cuda.is_available() else \"cpu\"\n",
    "print(device)"
   ]
  },
  {
   "cell_type": "code",
   "execution_count": 2,
   "id": "073e06b7-8918-4bd3-8287-6718cc95665c",
   "metadata": {},
   "outputs": [
    {
     "data": {
      "text/plain": [
       "tensor([ 274,  462,  294,  -64, -439,  373])"
      ]
     },
     "execution_count": 2,
     "metadata": {},
     "output_type": "execute_result"
    }
   ],
   "source": [
    "randint = torch.randint(-500 , 500 ,(6,))\n",
    "randint"
   ]
  },
  {
   "cell_type": "code",
   "execution_count": 3,
   "id": "f4027efa-9bb5-4334-b338-d02f3905a475",
   "metadata": {},
   "outputs": [
    {
     "data": {
      "text/plain": [
       "tensor([[0.1000, 0.2000],\n",
       "        [0.3000, 0.4000],\n",
       "        [1.0000, 6.0000]])"
      ]
     },
     "execution_count": 3,
     "metadata": {},
     "output_type": "execute_result"
    }
   ],
   "source": [
    "tensor = torch.tensor([[0.1,0.2],[0.3,0.4],[1,6]])\n",
    "tensor"
   ]
  },
  {
   "cell_type": "code",
   "execution_count": 4,
   "id": "0d7ae4dd-6230-40c7-94c5-a79595ff81ab",
   "metadata": {},
   "outputs": [
    {
     "data": {
      "text/plain": [
       "tensor([[1., 1., 1., 1.],\n",
       "        [1., 1., 1., 1.],\n",
       "        [1., 1., 1., 1.],\n",
       "        [1., 1., 1., 1.],\n",
       "        [1., 1., 1., 1.]])"
      ]
     },
     "execution_count": 4,
     "metadata": {},
     "output_type": "execute_result"
    }
   ],
   "source": [
    "#these are Floating point numbers\n",
    "zeros = torch.zeros(2,3)\n",
    "zeros\n",
    "ones = torch.ones(5,4)\n",
    "ones"
   ]
  },
  {
   "cell_type": "code",
   "execution_count": 5,
   "id": "6f10a58c-0d1d-4e19-a6be-c520dc7e8f5c",
   "metadata": {},
   "outputs": [
    {
     "data": {
      "text/plain": [
       "tensor([0, 1, 2, 3, 4, 5])"
      ]
     },
     "execution_count": 5,
     "metadata": {},
     "output_type": "execute_result"
    }
   ],
   "source": [
    "arange = torch.arange(6)\n",
    "arange"
   ]
  },
  {
   "cell_type": "code",
   "execution_count": 6,
   "id": "9cb05cb4-e551-4807-8d80-33ff0fcbad89",
   "metadata": {},
   "outputs": [
    {
     "data": {
      "text/plain": [
       "tensor([ 5.0000,  7.5000, 10.0000])"
      ]
     },
     "execution_count": 6,
     "metadata": {},
     "output_type": "execute_result"
    }
   ],
   "source": [
    "linspace = torch.linspace(start = 5, end = 10, steps = 3)\n",
    "linspace"
   ]
  },
  {
   "cell_type": "code",
   "execution_count": 7,
   "id": "a20b8d2f-90db-4894-a4ab-bf3d4ef35a29",
   "metadata": {},
   "outputs": [
    {
     "data": {
      "text/plain": [
       "tensor([1.0000e-10, 1.0000e+00, 1.0000e+10])"
      ]
     },
     "execution_count": 7,
     "metadata": {},
     "output_type": "execute_result"
    }
   ],
   "source": [
    "logspace = torch.logspace(-10 , 10 ,3)\n",
    "logspace"
   ]
  },
  {
   "cell_type": "code",
   "execution_count": 8,
   "id": "23e71e72-11d3-4a17-b796-ab644d354a05",
   "metadata": {
    "scrolled": true
   },
   "outputs": [
    {
     "data": {
      "text/plain": [
       "tensor([[1., 0., 0., 0., 0., 0.],\n",
       "        [0., 1., 0., 0., 0., 0.],\n",
       "        [0., 0., 1., 0., 0., 0.],\n",
       "        [0., 0., 0., 1., 0., 0.],\n",
       "        [0., 0., 0., 0., 1., 0.],\n",
       "        [0., 0., 0., 0., 0., 1.]])"
      ]
     },
     "execution_count": 8,
     "metadata": {},
     "output_type": "execute_result"
    }
   ],
   "source": [
    "eye = torch.eye(6)\n",
    "eye"
   ]
  },
  {
   "cell_type": "code",
   "execution_count": 9,
   "id": "df1ce0e2-e8d2-4ab9-8c07-52594001b65d",
   "metadata": {},
   "outputs": [
    {
     "name": "stdout",
     "output_type": "stream",
     "text": [
      "0.0000\n"
     ]
    }
   ],
   "source": [
    "start_time = time.time()\n",
    "zeros = torch.zeros(1,1)\n",
    "end_time = time.time()\n",
    "\n",
    "elapsed_time = end_time - start_time\n",
    "print(f\"{elapsed_time:.4f}\")"
   ]
  },
  {
   "cell_type": "code",
   "execution_count": 10,
   "id": "b967109a-79c5-4eac-92c9-ec0b81e7a057",
   "metadata": {},
   "outputs": [
    {
     "name": "stdout",
     "output_type": "stream",
     "text": [
      " 0.044879\n",
      " 0.116092\n"
     ]
    }
   ],
   "source": [
    "#Comparing running time between Gpu and Cpu\n",
    "torch_rand1 = torch.rand(100 , 100 , 100 , 100).to(device)\n",
    "torch_rand2 = torch.rand(100 , 100 , 100 , 100).to(device)\n",
    "np_array1 = torch.rand(100 , 100 , 100 , 100)\n",
    "np_array2 = torch.rand(100 , 100 , 100 , 100)\n",
    "\n",
    "start_time = time.time()\n",
    "rand = (torch_rand1 @ torch_rand2)\n",
    "end_time = time.time()\n",
    "Elapsed_time = end_time - start_time\n",
    "print(f\"{Elapsed_time:9f}\")\n",
    "\n",
    "start_time = time.time()\n",
    "rand = np.multiply(np_array1,np_array2)\n",
    "end_time = time.time()\n",
    "Elapsed_time = end_time - start_time\n",
    "print(f\"{Elapsed_time:9f}\")\n",
    "\n",
    "\n"
   ]
  },
  {
   "cell_type": "code",
   "execution_count": 11,
   "id": "a76cc9bf-d86b-43cf-b818-fab24aebde3f",
   "metadata": {},
   "outputs": [
    {
     "data": {
      "text/plain": [
       "tensor([1, 1, 1, 1, 1, 1, 1, 1, 1, 1])"
      ]
     },
     "execution_count": 11,
     "metadata": {},
     "output_type": "execute_result"
    }
   ],
   "source": [
    "#defining a probability tensor\n",
    "probabilities = torch.tensor([0.1,0.9])\n",
    "samples = torch.multinomial(probabilities, 10, True)\n",
    "samples"
   ]
  },
  {
   "cell_type": "code",
   "execution_count": 12,
   "id": "e543f7ae-dbc9-42b4-92b9-ded6765e8567",
   "metadata": {},
   "outputs": [
    {
     "data": {
      "text/plain": [
       "tensor([1, 2, 3, 4, 5, 5])"
      ]
     },
     "execution_count": 12,
     "metadata": {},
     "output_type": "execute_result"
    }
   ],
   "source": [
    "#concatinating two tensors into one and this can be used when we are generating text, given a context\n",
    "tensor = torch.tensor([1,2,3,4,5])\n",
    "#dim is a parameter used in the torch.cat function to specify the dimension along which the tensors should be concatenated.\n",
    "outputt = torch.cat((tensor, torch.tensor([5])), dim = 0)         \n",
    "outputt"
   ]
  },
  {
   "cell_type": "code",
   "execution_count": 13,
   "id": "23acf63d-6e24-4b6e-bb84-67fbac077193",
   "metadata": {},
   "outputs": [
    {
     "data": {
      "text/plain": [
       "tensor([[1., 0., 0., 0., 0.],\n",
       "        [1., 1., 0., 0., 0.],\n",
       "        [1., 1., 1., 0., 0.],\n",
       "        [1., 1., 1., 1., 0.],\n",
       "        [1., 1., 1., 1., 1.]])"
      ]
     },
     "execution_count": 13,
     "metadata": {},
     "output_type": "execute_result"
    }
   ],
   "source": [
    "#tril - triangle lower\n",
    "out = torch.tril(torch.ones(5,5))\n",
    "out"
   ]
  },
  {
   "cell_type": "code",
   "execution_count": 14,
   "id": "91cfd2eb-fa95-4cf7-bb44-6c7117d51fff",
   "metadata": {},
   "outputs": [
    {
     "data": {
      "text/plain": [
       "tensor([[1., 1., 1., 1., 1.],\n",
       "        [0., 1., 1., 1., 1.],\n",
       "        [0., 0., 1., 1., 1.],\n",
       "        [0., 0., 0., 1., 1.],\n",
       "        [0., 0., 0., 0., 1.]])"
      ]
     },
     "execution_count": 14,
     "metadata": {},
     "output_type": "execute_result"
    }
   ],
   "source": [
    "out = torch.triu(torch.ones(5,5))\n",
    "out"
   ]
  },
  {
   "cell_type": "code",
   "execution_count": 15,
   "id": "1e5ab540-6dda-4064-bbb7-20314b33a51a",
   "metadata": {},
   "outputs": [
    {
     "data": {
      "text/plain": [
       "tensor([[0., -inf, -inf, -inf, -inf],\n",
       "        [0., 0., -inf, -inf, -inf],\n",
       "        [0., 0., 0., -inf, -inf],\n",
       "        [0., 0., 0., 0., -inf],\n",
       "        [0., 0., 0., 0., 0.]])"
      ]
     },
     "execution_count": 15,
     "metadata": {},
     "output_type": "execute_result"
    }
   ],
   "source": [
    "out = torch.zeros(5,5).masked_fill(torch.tril(torch.ones(5,5))==0,float('-inf'))\n",
    "out"
   ]
  },
  {
   "cell_type": "code",
   "execution_count": 16,
   "id": "2fe6da37-1669-4db7-ba53-368eea4c33e8",
   "metadata": {},
   "outputs": [
    {
     "data": {
      "text/plain": [
       "tensor([[1., 0., 0., 0., 0.],\n",
       "        [1., 1., 0., 0., 0.],\n",
       "        [1., 1., 1., 0., 0.],\n",
       "        [1., 1., 1., 1., 0.],\n",
       "        [1., 1., 1., 1., 1.]])"
      ]
     },
     "execution_count": 16,
     "metadata": {},
     "output_type": "execute_result"
    }
   ],
   "source": [
    "torch.exp(out)"
   ]
  },
  {
   "cell_type": "code",
   "execution_count": 17,
   "id": "e3bc984d-51d7-4dd2-9391-15945ef31e4c",
   "metadata": {},
   "outputs": [
    {
     "data": {
      "text/plain": [
       "torch.Size([4, 3, 2])"
      ]
     },
     "execution_count": 17,
     "metadata": {},
     "output_type": "execute_result"
    }
   ],
   "source": [
    "input = torch.zeros(2,3,4)\n",
    "#transposing position of 0th and 2nd position \n",
    "out = input.transpose(0,2)\n",
    "out.shape"
   ]
  },
  {
   "cell_type": "code",
   "execution_count": 18,
   "id": "3fda2d56-903f-4da9-bde3-40b8d926249b",
   "metadata": {},
   "outputs": [
    {
     "data": {
      "text/plain": [
       "tensor([[1, 2, 3],\n",
       "        [2, 2, 4],\n",
       "        [1, 7, 6]])"
      ]
     },
     "execution_count": 18,
     "metadata": {},
     "output_type": "execute_result"
    }
   ],
   "source": [
    "#stacking tensor along new dimension\n",
    "tensor1 = torch.tensor([1,2,3])\n",
    "tensor2 = torch.tensor([2,2,4])\n",
    "tensor3 = torch.tensor([1,7,6])\n",
    "\n",
    "stacked = torch.stack([tensor1,tensor2,tensor3])\n",
    "stacked"
   ]
  },
  {
   "cell_type": "code",
   "execution_count": 19,
   "id": "dc6e0b54-e960-4c8f-858d-9e00a2255b2f",
   "metadata": {},
   "outputs": [
    {
     "name": "stdout",
     "output_type": "stream",
     "text": [
      "tensor([ -2.3803, -11.5240,  -1.5417], grad_fn=<SqueezeBackward4>)\n"
     ]
    }
   ],
   "source": [
    "# Import the neural network module from PyTorch\n",
    "import torch.nn as nn\n",
    "# Create a sample input tensor with three elements, all set to 10.0\n",
    "sample = torch.tensor([10.,10.,10.])\n",
    "# Create a linear transformation layer with 3 inputs and 3 outputs, and no bias term\n",
    "linear = nn.Linear(3,3,bias=False)\n",
    "print(linear(sample))"
   ]
  },
  {
   "cell_type": "code",
   "execution_count": 21,
   "id": "9e3f4c6c-acaf-47fd-8391-82eed457cfe8",
   "metadata": {},
   "outputs": [
    {
     "name": "stdout",
     "output_type": "stream",
     "text": [
      "tensor([0.0900, 0.2447, 0.6652])\n"
     ]
    }
   ],
   "source": [
    "import torch.nn.functional as F\n",
    "#create a tensor\n",
    "tensor1 = torch.tensor([1.,2.,3.])\n",
    "#apply Softmax using torch.nn.functional.softmax()\n",
    "softmax_output = F.softmax(tensor1, dim=0)\n",
    "\n",
    "print(softmax_output)"
   ]
  },
  {
   "cell_type": "code",
   "execution_count": null,
   "id": "f2fc1dda-cc3e-4300-b1f7-26c0a6b1a94f",
   "metadata": {},
   "outputs": [],
   "source": []
  }
 ],
 "metadata": {
  "kernelspec": {
   "display_name": "cuda-gpt",
   "language": "python",
   "name": "cuda"
  },
  "language_info": {
   "codemirror_mode": {
    "name": "ipython",
    "version": 3
   },
   "file_extension": ".py",
   "mimetype": "text/x-python",
   "name": "python",
   "nbconvert_exporter": "python",
   "pygments_lexer": "ipython3",
   "version": "3.11.7"
  }
 },
 "nbformat": 4,
 "nbformat_minor": 5
}
