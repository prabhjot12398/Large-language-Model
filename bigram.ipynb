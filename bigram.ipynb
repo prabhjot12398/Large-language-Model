{
 "cells": [
  {
   "cell_type": "code",
   "execution_count": 10,
   "id": "007faf73-9f22-4d85-bdb7-6384d1c0d627",
   "metadata": {},
   "outputs": [
    {
     "name": "stdout",
     "output_type": "stream",
     "text": [
      "cuda\n"
     ]
    }
   ],
   "source": [
    "import torch\n",
    "import torch.nn as nn\n",
    "from torch.nn import functional as F\n",
    "device = 'cuda' if torch.cuda.is_available() else 'cpu'\n",
    "\n",
    "print(device)\n",
    "#block_size is for the length of the integers \n",
    "block_size = 8\n",
    "#batch_size is how many of them are running in parallel\n",
    "batch_size = 4\n",
    "learning_rate = 3e-4\n",
    "max_iters = 1000\n"
   ]
  },
  {
   "cell_type": "code",
   "execution_count": 11,
   "id": "2d75efaa-84e6-42af-bb8e-880b1152b438",
   "metadata": {},
   "outputs": [
    {
     "name": "stdout",
     "output_type": "stream",
     "text": [
      "['\\n', ' ', '!', '\"', '&', \"'\", '(', ')', '*', ',', '-', '.', '0', '1', '2', '3', '4', '5', '6', '7', '8', '9', ':', ';', '?', 'A', 'B', 'C', 'D', 'E', 'F', 'G', 'H', 'I', 'J', 'K', 'L', 'M', 'N', 'O', 'P', 'Q', 'R', 'S', 'T', 'U', 'V', 'W', 'X', 'Y', 'Z', '[', ']', '_', 'a', 'b', 'c', 'd', 'e', 'f', 'g', 'h', 'i', 'j', 'k', 'l', 'm', 'n', 'o', 'p', 'q', 'r', 's', 't', 'u', 'v', 'w', 'x', 'y', 'z', '\\ufeff']\n",
      "81\n"
     ]
    }
   ],
   "source": [
    "with open('wizard_of_oz.txt', 'r', encoding='utf-8') as f:\n",
    "    text=f.read()\n",
    "#print(text[:200])\n",
    "chars=sorted(set(text))\n",
    "print(chars)\n",
    "#tokenizer consist of encoder and decoder \n",
    "#encoder-convert each element in this array to an integer eg- maybe '\\n' would be 0\n",
    "print(len(chars))\n",
    "vocab_size = len(chars)\n"
   ]
  },
  {
   "cell_type": "code",
   "execution_count": 12,
   "id": "0a09e3ce-26c9-40e4-81c8-0e4fc40e2439",
   "metadata": {},
   "outputs": [
    {
     "name": "stdout",
     "output_type": "stream",
     "text": [
      "tensor([80, 44, 61, 58,  1, 40, 71, 68, 63, 58, 56, 73,  1, 31, 74, 73, 58, 67,\n",
      "        55, 58, 71, 60,  1, 58, 26, 68, 68, 64,  1, 68, 59,  1, 28, 68, 71, 68,\n",
      "        73, 61, 78,  1, 54, 67, 57,  1, 73, 61, 58,  1, 47, 62, 79, 54, 71, 57,\n",
      "         1, 62, 67,  1, 39, 79,  0,  1,  1,  1,  1,  0, 44, 61, 62, 72,  1, 58,\n",
      "        55, 68, 68, 64,  1, 62, 72,  1, 59, 68, 71,  1, 73, 61, 58,  1, 74, 72,\n",
      "        58,  1, 68, 59,  1, 54, 67, 78, 68, 67])\n"
     ]
    }
   ],
   "source": [
    "string_to_int = {ch:i for i,ch in enumerate(chars)}\n",
    "int_to_string = {i:ch for i,ch in enumerate(chars)}\n",
    "encode = lambda s:[string_to_int[c] for c in s]\n",
    "decode = lambda l: ''.join([int_to_string[i] for i in l])\n",
    "\n",
    "#encoded=encode('hello')\n",
    "#decoded=decode(encoded)\n",
    "#print(decoded)\n",
    "#so these are character level tokenizers which takes each character and coverts it to integer equivalent.\n",
    "\n",
    "data = torch.tensor(encode(text),dtype=torch.long)\n",
    "print(data[:100])"
   ]
  },
  {
   "cell_type": "code",
   "execution_count": 13,
   "id": "d0a5a940-c580-4504-8ccc-a5466eb720d0",
   "metadata": {},
   "outputs": [
    {
     "name": "stdout",
     "output_type": "stream",
     "text": [
      "inputs:\n",
      "tensor([[72,  1, 55, 54, 73, 73, 65, 58],\n",
      "        [58, 65, 65, 58, 71,  1, 73, 61],\n",
      "        [58,  1, 61, 54, 57,  0, 54, 67],\n",
      "        [58, 54, 57, 78,  1, 73, 61, 58]], device='cuda:0')\n",
      "targets:\n",
      "tensor([[ 1, 55, 54, 73, 73, 65, 58, 10],\n",
      "        [65, 65, 58, 71,  1, 73, 61, 54],\n",
      "        [ 1, 61, 54, 57,  0, 54, 67, 78],\n",
      "        [54, 57, 78,  1, 73, 61, 58,  1]], device='cuda:0')\n"
     ]
    }
   ],
   "source": [
    "#training and validation(Training from 80% percent of the data so our output will not be same as the whole input data i.e 100%)\n",
    "n = int(0.8*len(data))\n",
    "train_data = data[:n]\n",
    "val_data = data[n:]\n",
    "\n",
    "def get_batch(split):\n",
    "    data = train_data if split == 'train' else val_data\n",
    "    # getting a random integer between zero and length of the entire text - block_size so if we get at the index at len(data)-block_size\n",
    "    # we still will have space to get upto length of data\n",
    "    ix = torch.randint(len(data) - block_size, (batch_size,))\n",
    "    x = torch.stack([data[i : i+block_size] for i in ix])\n",
    "    y = torch.stack([data[i+1 : i+1+block_size] for i in ix])\n",
    "    x,y = x.to(device), y.to(device)\n",
    "    return x,y\n",
    "    \n",
    "x, y = get_batch('train')\n",
    "print('inputs:')\n",
    "# print(x.shape)\n",
    "print(x)\n",
    "print('targets:')\n",
    "print(y)\n",
    "    \n",
    "        \n"
   ]
  },
  {
   "cell_type": "code",
   "execution_count": 14,
   "id": "57c51c41-9c81-4fce-bcbe-1fa6c4ee5453",
   "metadata": {},
   "outputs": [
    {
     "name": "stdout",
     "output_type": "stream",
     "text": [
      "when input is tensor([80]) target is tensor(44)\n",
      "when input is tensor([80, 44]) target is tensor(61)\n",
      "when input is tensor([80, 44, 61]) target is tensor(58)\n",
      "when input is tensor([80, 44, 61, 58]) target is tensor(1)\n",
      "when input is tensor([80, 44, 61, 58,  1]) target is tensor(40)\n",
      "when input is tensor([80, 44, 61, 58,  1, 40]) target is tensor(71)\n",
      "when input is tensor([80, 44, 61, 58,  1, 40, 71]) target is tensor(68)\n",
      "when input is tensor([80, 44, 61, 58,  1, 40, 71, 68]) target is tensor(63)\n"
     ]
    }
   ],
   "source": [
    "#bigram-given a given input like a character predicts the next is bigram language model\n",
    "block_size = 8\n",
    "x = train_data[:block_size]\n",
    "y = train_data[1:block_size+1]\n",
    "\n",
    "for i in range(block_size):\n",
    "    context = x[:i+1]\n",
    "    target = y[i]\n",
    "    print(\"when input is\" , context , \"target is\", target )\n",
    "    \n"
   ]
  },
  {
   "cell_type": "code",
   "execution_count": 15,
   "id": "18265840-10fd-4d75-adf6-28337b5e6d35",
   "metadata": {},
   "outputs": [
    {
     "name": "stdout",
     "output_type": "stream",
     "text": [
      "\n",
      "\n",
      "8n3[\"PL)OTm9cg[5﻿﻿GSj),c4YGG9_Df;[\"*P﻿v-﻿x&K_O9&Mo1u&-oxg01ai4ruBZ\n",
      "ySpjyS00t;34VE9B1:Au&qbzCf9[x3O8HI__0IwY1kbUUkuKnJ(CTe,]J0hjb:]UAB)exQ8*mMF?&I&,!g'5a(xG'jbsr:!kp]UZ;!LI(-:SrBFSsEK\"?eX_qZ.Z7ns﻿8QFTe]h\n",
      "wuI9GDdS)xEq[uhD?2wQYbzWTOp;pwaa'VAF﻿kz.r:9Ww:6,0yIC.OT3Trex﻿,*wz9_Bo'MthVslsE5﻿-R_'JIu&SmSv-**.oVy;.L4Ir:3jSKvha&IJf9e!iHk989IlB;.YW&:zl0e6nh\n",
      "jBpnb99  !4Fp&lHQIgN:srhCfPy;99!4cI,7X_iXTex4NL1QO:5kQ(AoO [tHa:iULBh?rP UdTrGDbpU-]smL)\n",
      "DyCfTkpUhE9BTeDbsPy\n",
      "Jp DN**\"rsQz(.R5Paq&0Eu&Jqr!zSfjLgiL)x*7X3*.\n"
     ]
    }
   ],
   "source": [
    "class BigramLanguageModel(nn.Module):\n",
    "    def __init__(self,vocab_size):\n",
    "        super().__init__()\n",
    "        self.token_embedding_table = nn.Embedding(vocab_size, vocab_size)\n",
    "\n",
    "    def forward(self,index,targets = None):\n",
    "        #logits are bunch of floating points that are normalized. its contribution to the sum of everything\n",
    "        #the context of the softmax function, \"normalized\" means that the output values are turned into probabilities.\n",
    "        #Each output value will be between 0 and 1, and when you add up all the output values, they will equal 1.\n",
    "        #eg-[2,4,6] and we got a totalof 12 now we got [2/12,4/12,6/12]=[0.167,0.33,0.5]\n",
    "        logits = self.token_embedding_table(index)\n",
    "\n",
    "                \n",
    "        # If targets are not provided, set loss to None (useful during inference).\n",
    "        if targets is None:\n",
    "            loss = None\n",
    "            \n",
    "        else:        \n",
    "            # Unpack the shape of the logits tensor.\n",
    "            #where B is the batch size, T is the sequence length (number of tokens in each sample), \n",
    "            #and C is the embedding size (dimensionality of the embedding vectors).\n",
    "            B,T,C = logits.shape\n",
    "            \n",
    "            #view- allow us to unpack with dot shape and then we can use them to put them back in the tensor\n",
    "            # Reshape logits and targets to match the expected input shape for cross-entropy loss.\n",
    "            logits = logits.view(B*T, C)\n",
    "            targets = targets.view(B*T)\n",
    "            \n",
    "            # Compute the cross-entropy loss between logits and targets.\n",
    "            loss = F.cross_entropy(logits,targets)\n",
    "        return logits,loss\n",
    "    \n",
    "    \n",
    "    # This function generates a sequence of new tokens based on an initial sequence\n",
    "    def generate(self,index,max_new_tokens):\n",
    "        for i in range(max_new_tokens):\n",
    "            # Get the logits for the current sequence using the forward pass\n",
    "            logits,loss = self.forward(index)\n",
    "            # Focus only on the logits for the last time step\n",
    "            #: (first colon) means we take all elements in the first dimension (all batches).\n",
    "            #-1 (middle value) means we take the element at the last index in the second dimension (the last time step in the sequence).\n",
    "            #: (last colon) means we take all elements in the third dimension (all classes).\n",
    "            logits = logits[:,-1,:]\n",
    "            # Convert the logits to probabilities using the softmax function\n",
    "            #The dim=-1 argument in the probs = F.softmax(logits, dim=-1) line specifies that the softmax function should be \n",
    "            #applied along the last dimension of the logits tensor.\n",
    "            prob = F.softmax(logits,dim = -1)\n",
    "            # Sample a new token index from the probability distribution\n",
    "            #introduces randomness into the generation process, allowing the model to generate diverse and plausible text. \n",
    "            #The sampled token index (index_next) is then used to extend the current sequence, and the process repeats to generate additional tokens.\n",
    "            index_next = torch.multinomial(prob, num_samples = 1)\n",
    "            # Append the new token index to the current sequence\n",
    "            index = torch.cat((index, index_next), dim=1)\n",
    "        return index\n",
    "\n",
    "\n",
    "model = BigramLanguageModel(vocab_size)\n",
    "m = model.to(device)\n",
    "    \n",
    "# Create an initial context sequence with a single token (index 0)\n",
    "context = torch.zeros((1,1), dtype=torch.long, device=device)\n",
    "# Convert the generated token indices to characters (assuming a decode function exists)\n",
    "# This step is for demonstration purposes and would depend on how the tokens are encoded\n",
    "generated_chars = decode(m.generate(context,max_new_tokens=500)[0].tolist())\n",
    "    \n",
    "# Print the generated sequence of characters\n",
    "print(generated_chars)\n",
    "    "
   ]
  },
  {
   "cell_type": "code",
   "execution_count": 17,
   "id": "4c572fc1-7c05-4aff-a88c-cae907595a40",
   "metadata": {},
   "outputs": [
    {
     "name": "stdout",
     "output_type": "stream",
     "text": [
      "4.533364772796631\n"
     ]
    }
   ],
   "source": [
    "#torch.optim.AdamW: This is the optimization algorithm we're using, called AdamW. It's a variation of the Adam optimizer that is \n",
    "#often used in training neural networks.\n",
    "#model.parameters(): This retrieves all the parameters (weights and biases) of our model that need to be updated during training.\n",
    "#learning_rate: This is a small number that controls how big of a step we take during optimization. It's like deciding how big of\n",
    "#a step to take when walking towards a target.\n",
    "optimizer = torch.optim.AdamW(model.parameters(), learning_rate)\n",
    "\n",
    "#max_iters is the total number of iterations (or steps) we want to take during training.\n",
    "for i in range(max_iters):\n",
    "\n",
    "    #input data (x) and target data (y\n",
    "    x,y = get_batch('train')\n",
    "\n",
    "    logits,loss = model.forward(x,y)\n",
    "\n",
    "    #optimizer.zero_grad(): This is a method call that resets the gradients of all the model parameters to zero. Gradients are \n",
    "    #used to update the parameters, so we need to reset them at the beginning of each iteration.\n",
    "    #set_to_none = True: This is an argument that tells the optimizer to set the gradients to None instead of zero, which can be more efficient.\n",
    "    optimizer.zero_grad(set_to_none = True)\n",
    "\n",
    "    #loss.backward(): This is a method call that performs backpropagation. It calculates the gradients of the loss with respect to each model parameter.\n",
    "    loss.backward()\n",
    "\n",
    "    #optimizer.step(): This is a method call that updates the model parameters based on the gradients calculated during backpropagation.\n",
    "    optimizer.step()\n",
    "print(loss.item())\n",
    "    \n",
    "    "
   ]
  },
  {
   "cell_type": "code",
   "execution_count": null,
   "id": "9774a991-0c04-4aff-b359-719ecd6123fd",
   "metadata": {},
   "outputs": [],
   "source": []
  }
 ],
 "metadata": {
  "kernelspec": {
   "display_name": "cuda-gpt",
   "language": "python",
   "name": "cuda"
  },
  "language_info": {
   "codemirror_mode": {
    "name": "ipython",
    "version": 3
   },
   "file_extension": ".py",
   "mimetype": "text/x-python",
   "name": "python",
   "nbconvert_exporter": "python",
   "pygments_lexer": "ipython3",
   "version": "3.11.7"
  }
 },
 "nbformat": 4,
 "nbformat_minor": 5
}
