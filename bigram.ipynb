{
 "cells": [
  {
   "cell_type": "code",
   "execution_count": 1,
   "id": "007faf73-9f22-4d85-bdb7-6384d1c0d627",
   "metadata": {},
   "outputs": [],
   "source": [
    "import torch"
   ]
  },
  {
   "cell_type": "code",
   "execution_count": 7,
   "id": "2d75efaa-84e6-42af-bb8e-880b1152b438",
   "metadata": {
    "scrolled": true
   },
   "outputs": [
    {
     "name": "stdout",
     "output_type": "stream",
     "text": [
      "['\\n', ' ', '!', '\"', '&', \"'\", '(', ')', '*', ',', '-', '.', '0', '1', '2', '3', '4', '5', '6', '7', '8', '9', ':', ';', '?', 'A', 'B', 'C', 'D', 'E', 'F', 'G', 'H', 'I', 'J', 'K', 'L', 'M', 'N', 'O', 'P', 'Q', 'R', 'S', 'T', 'U', 'V', 'W', 'X', 'Y', 'Z', '[', ']', '_', 'a', 'b', 'c', 'd', 'e', 'f', 'g', 'h', 'i', 'j', 'k', 'l', 'm', 'n', 'o', 'p', 'q', 'r', 's', 't', 'u', 'v', 'w', 'x', 'y', 'z', '\\ufeff']\n",
      "81\n"
     ]
    }
   ],
   "source": [
    "with open('wizard_of_oz.txt', 'r', encoding='utf-8') as f:\n",
    "    text=f.read()\n",
    "#print(text[:200])\n",
    "chars=sorted(set(text))\n",
    "print(chars)\n",
    "#tokenizer consist of encoder and decoder \n",
    "#encoder-convert each element in this array to an integer eg- maybe '\\n' would be 0\n",
    "print(len(chars))\n"
   ]
  },
  {
   "cell_type": "code",
   "execution_count": 6,
   "id": "0a09e3ce-26c9-40e4-81c8-0e4fc40e2439",
   "metadata": {},
   "outputs": [
    {
     "name": "stdout",
     "output_type": "stream",
     "text": [
      "tensor([80, 44, 61, 58,  1, 40, 71, 68, 63, 58, 56, 73,  1, 31, 74, 73, 58, 67,\n",
      "        55, 58, 71, 60,  1, 58, 26, 68, 68, 64,  1, 68, 59,  1, 28, 68, 71, 68,\n",
      "        73, 61, 78,  1, 54, 67, 57,  1, 73, 61, 58,  1, 47, 62, 79, 54, 71, 57,\n",
      "         1, 62, 67,  1, 39, 79,  0,  1,  1,  1,  1,  0, 44, 61, 62, 72,  1, 58,\n",
      "        55, 68, 68, 64,  1, 62, 72,  1, 59, 68, 71,  1, 73, 61, 58,  1, 74, 72,\n",
      "        58,  1, 68, 59,  1, 54, 67, 78, 68, 67])\n"
     ]
    }
   ],
   "source": [
    "string_to_int = {ch:i for i,ch in enumerate(chars)}\n",
    "int_to_string = {i:ch for i,ch in enumerate(chars)}\n",
    "encode = lambda s:[string_to_int[c] for c in s]\n",
    "decode = lambda l: ''.join([int_to_string[i] for i in l])\n",
    "\n",
    "#encoded=encode('hello')\n",
    "#decoded=decode(encoded)\n",
    "#print(decoded)\n",
    "#so these are character level tokenizers which takes each character and coverts it to integer equivalent.\n",
    "\n",
    "data = torch.tensor(encode(text),dtype=torch.long)\n",
    "print(data[:100])"
   ]
  },
  {
   "cell_type": "code",
   "execution_count": null,
   "id": "d0a5a940-c580-4504-8ccc-a5466eb720d0",
   "metadata": {},
   "outputs": [],
   "source": []
  }
 ],
 "metadata": {
  "kernelspec": {
   "display_name": "cuda-gpt",
   "language": "python",
   "name": "cuda"
  },
  "language_info": {
   "codemirror_mode": {
    "name": "ipython",
    "version": 3
   },
   "file_extension": ".py",
   "mimetype": "text/x-python",
   "name": "python",
   "nbconvert_exporter": "python",
   "pygments_lexer": "ipython3",
   "version": "3.11.7"
  }
 },
 "nbformat": 4,
 "nbformat_minor": 5
}
