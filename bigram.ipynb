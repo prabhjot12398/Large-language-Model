{
 "cells": [
  {
   "cell_type": "code",
   "execution_count": 1,
   "id": "007faf73-9f22-4d85-bdb7-6384d1c0d627",
   "metadata": {},
   "outputs": [
    {
     "name": "stdout",
     "output_type": "stream",
     "text": [
      "cuda\n"
     ]
    }
   ],
   "source": [
    "import torch\n",
    "import torch.nn as nn\n",
    "from torch.nn import functional as F\n",
    "device = 'cuda' if torch.cuda.is_available() else 'cpu'\n",
    "\n",
    "print(device)\n",
    "#block_size is for the length of the integers \n",
    "block_size = 8\n",
    "#batch_size is how many of them are running in parallel\n",
    "batch_size = 4"
   ]
  },
  {
   "cell_type": "code",
   "execution_count": 2,
   "id": "2d75efaa-84e6-42af-bb8e-880b1152b438",
   "metadata": {},
   "outputs": [
    {
     "name": "stdout",
     "output_type": "stream",
     "text": [
      "['\\n', ' ', '!', '\"', '&', \"'\", '(', ')', '*', ',', '-', '.', '0', '1', '2', '3', '4', '5', '6', '7', '8', '9', ':', ';', '?', 'A', 'B', 'C', 'D', 'E', 'F', 'G', 'H', 'I', 'J', 'K', 'L', 'M', 'N', 'O', 'P', 'Q', 'R', 'S', 'T', 'U', 'V', 'W', 'X', 'Y', 'Z', '[', ']', '_', 'a', 'b', 'c', 'd', 'e', 'f', 'g', 'h', 'i', 'j', 'k', 'l', 'm', 'n', 'o', 'p', 'q', 'r', 's', 't', 'u', 'v', 'w', 'x', 'y', 'z', '\\ufeff']\n",
      "81\n"
     ]
    }
   ],
   "source": [
    "with open('wizard_of_oz.txt', 'r', encoding='utf-8') as f:\n",
    "    text=f.read()\n",
    "#print(text[:200])\n",
    "chars=sorted(set(text))\n",
    "print(chars)\n",
    "#tokenizer consist of encoder and decoder \n",
    "#encoder-convert each element in this array to an integer eg- maybe '\\n' would be 0\n",
    "print(len(chars))\n",
    "vocab_size = len(chars)\n"
   ]
  },
  {
   "cell_type": "code",
   "execution_count": 3,
   "id": "0a09e3ce-26c9-40e4-81c8-0e4fc40e2439",
   "metadata": {},
   "outputs": [
    {
     "name": "stdout",
     "output_type": "stream",
     "text": [
      "tensor([80, 44, 61, 58,  1, 40, 71, 68, 63, 58, 56, 73,  1, 31, 74, 73, 58, 67,\n",
      "        55, 58, 71, 60,  1, 58, 26, 68, 68, 64,  1, 68, 59,  1, 28, 68, 71, 68,\n",
      "        73, 61, 78,  1, 54, 67, 57,  1, 73, 61, 58,  1, 47, 62, 79, 54, 71, 57,\n",
      "         1, 62, 67,  1, 39, 79,  0,  1,  1,  1,  1,  0, 44, 61, 62, 72,  1, 58,\n",
      "        55, 68, 68, 64,  1, 62, 72,  1, 59, 68, 71,  1, 73, 61, 58,  1, 74, 72,\n",
      "        58,  1, 68, 59,  1, 54, 67, 78, 68, 67])\n"
     ]
    }
   ],
   "source": [
    "string_to_int = {ch:i for i,ch in enumerate(chars)}\n",
    "int_to_string = {i:ch for i,ch in enumerate(chars)}\n",
    "encode = lambda s:[string_to_int[c] for c in s]\n",
    "decode = lambda l: ''.join([int_to_string[i] for i in l])\n",
    "\n",
    "#encoded=encode('hello')\n",
    "#decoded=decode(encoded)\n",
    "#print(decoded)\n",
    "#so these are character level tokenizers which takes each character and coverts it to integer equivalent.\n",
    "\n",
    "data = torch.tensor(encode(text),dtype=torch.long)\n",
    "print(data[:100])"
   ]
  },
  {
   "cell_type": "code",
   "execution_count": 4,
   "id": "d0a5a940-c580-4504-8ccc-a5466eb720d0",
   "metadata": {},
   "outputs": [
    {
     "name": "stdout",
     "output_type": "stream",
     "text": [
      "inputs:\n",
      "tensor([[72,  1, 72, 74, 71, 58,  0, 73],\n",
      "        [62, 72,  1, 76, 54, 78,  9,  1],\n",
      "        [61, 62, 72,  1, 61, 54, 73,  1],\n",
      "        [59, 54, 56, 58,  1, 54, 67, 57]], device='cuda:0')\n",
      "targets:\n",
      "tensor([[ 1, 72, 74, 71, 58,  0, 73, 61],\n",
      "        [72,  1, 76, 54, 78,  9,  1, 69],\n",
      "        [62, 72,  1, 61, 54, 73,  1, 73],\n",
      "        [54, 56, 58,  1, 54, 67, 57,  1]], device='cuda:0')\n"
     ]
    }
   ],
   "source": [
    "#training and validation(Training from 80% percent of the data so our output will not be same as the whole input data i.e 100%)\n",
    "n = int(0.8*len(data))\n",
    "train_data = data[:n]\n",
    "val_data = data[n:]\n",
    "\n",
    "def get_batch(split):\n",
    "    data = train_data if split == 'train' else val_data\n",
    "    # getting a random integer between zero and length of the entire text - block_size so if we get at the index at len(data)-block_size\n",
    "    # we still will have space to get upto length of data\n",
    "    ix = torch.randint(len(data) - block_size, (batch_size,))\n",
    "    x = torch.stack([data[i : i+block_size] for i in ix])\n",
    "    y = torch.stack([data[i+1 : i+1+block_size] for i in ix])\n",
    "    x,y = x.to(device), y.to(device)\n",
    "    return x,y\n",
    "    \n",
    "x, y = get_batch('train')\n",
    "print('inputs:')\n",
    "# print(x.shape)\n",
    "print(x)\n",
    "print('targets:')\n",
    "print(y)\n",
    "    \n",
    "        \n"
   ]
  },
  {
   "cell_type": "code",
   "execution_count": 5,
   "id": "57c51c41-9c81-4fce-bcbe-1fa6c4ee5453",
   "metadata": {},
   "outputs": [
    {
     "name": "stdout",
     "output_type": "stream",
     "text": [
      "when input is tensor([80]) target is tensor(44)\n",
      "when input is tensor([80, 44]) target is tensor(61)\n",
      "when input is tensor([80, 44, 61]) target is tensor(58)\n",
      "when input is tensor([80, 44, 61, 58]) target is tensor(1)\n",
      "when input is tensor([80, 44, 61, 58,  1]) target is tensor(40)\n",
      "when input is tensor([80, 44, 61, 58,  1, 40]) target is tensor(71)\n",
      "when input is tensor([80, 44, 61, 58,  1, 40, 71]) target is tensor(68)\n",
      "when input is tensor([80, 44, 61, 58,  1, 40, 71, 68]) target is tensor(63)\n"
     ]
    }
   ],
   "source": [
    "#bigram-given a given input like a character predicts the next is bigram language model\n",
    "block_size = 8\n",
    "x = train_data[:block_size]\n",
    "y = train_data[1:block_size+1]\n",
    "\n",
    "for i in range(block_size):\n",
    "    context = x[:i+1]\n",
    "    target = y[i]\n",
    "    print(\"when input is\" , context , \"target is\", target )\n",
    "    \n"
   ]
  },
  {
   "cell_type": "code",
   "execution_count": 7,
   "id": "18265840-10fd-4d75-adf6-28337b5e6d35",
   "metadata": {},
   "outputs": [
    {
     "ename": "NameError",
     "evalue": "name 'generated_sequence' is not defined",
     "output_type": "error",
     "traceback": [
      "\u001b[1;31m---------------------------------------------------------------------------\u001b[0m",
      "\u001b[1;31mNameError\u001b[0m                                 Traceback (most recent call last)",
      "Cell \u001b[1;32mIn[7], line 60\u001b[0m\n\u001b[0;32m     57\u001b[0m context \u001b[38;5;241m=\u001b[39m torch\u001b[38;5;241m.\u001b[39mzeros((\u001b[38;5;241m1\u001b[39m,\u001b[38;5;241m1\u001b[39m), dtype\u001b[38;5;241m=\u001b[39mtorch\u001b[38;5;241m.\u001b[39mlong, device\u001b[38;5;241m=\u001b[39mdevice)\n\u001b[0;32m     58\u001b[0m \u001b[38;5;66;03m# Convert the generated token indices to characters (assuming a decode function exists)\u001b[39;00m\n\u001b[0;32m     59\u001b[0m \u001b[38;5;66;03m# This step is for demonstration purposes and would depend on how the tokens are encoded\u001b[39;00m\n\u001b[1;32m---> 60\u001b[0m generated_chars \u001b[38;5;241m=\u001b[39m decode(\u001b[43mgenerated_sequence\u001b[49m[\u001b[38;5;241m0\u001b[39m]\u001b[38;5;241m.\u001b[39mtolist())\n\u001b[0;32m     62\u001b[0m \u001b[38;5;66;03m# Print the generated sequence of characters\u001b[39;00m\n\u001b[0;32m     63\u001b[0m \u001b[38;5;28mprint\u001b[39m(generated_chars)\n",
      "\u001b[1;31mNameError\u001b[0m: name 'generated_sequence' is not defined"
     ]
    }
   ],
   "source": [
    "class BigramLanguageModel(nn.Module):\n",
    "    def __init__(self,vocab_size):\n",
    "        super().__init__()\n",
    "        self.token_embedding_table = nn.Embedding(vocab_size, vocab_size)\n",
    "\n",
    "    def forward(self,index,targets):\n",
    "        #logits are bunch of floating points that are normalized. its contribution to the sum of everything\n",
    "        #the context of the softmax function, \"normalized\" means that the output values are turned into probabilities.\n",
    "        #Each output value will be between 0 and 1, and when you add up all the output values, they will equal 1.\n",
    "        #eg-[2,4,6] and we got a totalof 12 now we got [2/12,4/12,6/12]=[0.167,0.33,0.5]\n",
    "        logits = self.token_embedding_table(index)\n",
    "\n",
    "                \n",
    "        # If targets are not provided, set loss to None (useful during inference).\n",
    "        if target is None:\n",
    "            loss = None\n",
    "            \n",
    "        else:        \n",
    "            # Unpack the shape of the logits tensor.\n",
    "            #where B is the batch size, T is the sequence length (number of tokens in each sample), \n",
    "            #and C is the embedding size (dimensionality of the embedding vectors).\n",
    "            B,T,C = logits.shape\n",
    "            \n",
    "            #view- allow us to unpack with dot shape and then we can use them to put them back in the tensor\n",
    "            # Reshape logits and targets to match the expected input shape for cross-entropy loss.\n",
    "            logits = logits.view(B*T, C)\n",
    "            targets = targets.view(B*t)\n",
    "            \n",
    "            # Compute the cross-entropy loss between logits and targets.\n",
    "            loss = F.cross_entropy(logits,targets)\n",
    "        return logits,loss\n",
    "    \n",
    "    \n",
    "    # This function generates a sequence of new tokens based on an initial sequence\n",
    "    def generate(self,index,max_new_tokens):\n",
    "        for i in range(max_new_tokens):\n",
    "            # Get the logits for the current sequence using the forward pass\n",
    "            logits,loss = self.foward(index)\n",
    "            # Focus only on the logits for the last time step\n",
    "            logits = logits[:,-1,:]\n",
    "            # Convert the logits to probabilities using the softmax function\n",
    "            #The dim=-1 argument in the probs = F.softmax(logits, dim=-1) line specifies that the softmax function should be \n",
    "            #applied along the last dimension of the logits tensor.\n",
    "            prob = F.softmax(logits,dim = -1)\n",
    "            # Sample a new token index from the probability distribution\n",
    "            #introduces randomness into the generation process, allowing the model to generate diverse and plausible text. \n",
    "            #The sampled token index (index_next) is then used to extend the current sequence, and the process repeats to generate additional tokens.\n",
    "            index_next = torch.multinomial(prob, num_sample = 1)\n",
    "            # Append the new token index to the current sequence\n",
    "            index = torch.cat((index, index_next), dim=1)\n",
    "        return index\n",
    "\n",
    "\n",
    "model = BigramLanguageModel(vocab_size)\n",
    "    \n",
    "# Create an initial context sequence with a single token (index 0)\n",
    "context = torch.zeros((1,1), dtype=torch.long, device=device)\n",
    "# Convert the generated token indices to characters (assuming a decode function exists)\n",
    "# This step is for demonstration purposes and would depend on how the tokens are encoded\n",
    "generated_chars = decode(generated_sequence[0].tolist())\n",
    "    \n",
    "# Print the generated sequence of characters\n",
    "print(generated_chars)\n",
    "\n",
    "\n",
    "        \n",
    "        \n",
    "\n",
    "\n",
    "        \n",
    "    "
   ]
  },
  {
   "cell_type": "code",
   "execution_count": null,
   "id": "4c572fc1-7c05-4aff-a88c-cae907595a40",
   "metadata": {},
   "outputs": [],
   "source": []
  }
 ],
 "metadata": {
  "kernelspec": {
   "display_name": "cuda-gpt",
   "language": "python",
   "name": "cuda"
  },
  "language_info": {
   "codemirror_mode": {
    "name": "ipython",
    "version": 3
   },
   "file_extension": ".py",
   "mimetype": "text/x-python",
   "name": "python",
   "nbconvert_exporter": "python",
   "pygments_lexer": "ipython3",
   "version": "3.11.7"
  }
 },
 "nbformat": 4,
 "nbformat_minor": 5
}
